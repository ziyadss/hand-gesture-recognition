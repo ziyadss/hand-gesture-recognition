{
 "cells": [
  {
   "cell_type": "code",
   "execution_count": null,
   "metadata": {},
   "outputs": [],
   "source": [
    "import os\n",
    "import pickle\n",
    "\n",
    "from sklearn.model_selection import StratifiedKFold, cross_validate\n",
    "\n",
    "from constants import RANDOM_STATE"
   ]
  },
  {
   "cell_type": "code",
   "execution_count": null,
   "metadata": {},
   "outputs": [],
   "source": [
    "DATA_FILENAME = \"data_train.pkl\"\n",
    "SCORES_FILENAME = \"models.json\"\n",
    "\n",
    "if not os.path.exists(DATA_FILENAME):\n",
    "    raise Exception(\"Data file not found. Run train.py first.\")\n",
    "\n",
    "with open(DATA_FILENAME, \"rb\") as f:\n",
    "    data, labels = pickle.load(f)"
   ]
  },
  {
   "cell_type": "code",
   "execution_count": null,
   "metadata": {},
   "outputs": [],
   "source": [
    "# Ensuring same splits for all models.\n",
    "cv = StratifiedKFold(n_splits=5, shuffle=True, random_state=RANDOM_STATE)\n",
    "\n",
    "results: dict[str, tuple[list[float], list[float]]] = {}"
   ]
  },
  {
   "cell_type": "code",
   "execution_count": null,
   "metadata": {},
   "outputs": [],
   "source": [
    "# SVC\n",
    "from sklearn.svm import SVC\n",
    "\n",
    "svc = SVC(kernel=\"rbf\", random_state=RANDOM_STATE)\n",
    "\n",
    "result = cross_validate(\n",
    "    svc,\n",
    "    data,  # type: ignore\n",
    "    labels,\n",
    "    cv=cv,\n",
    "    scoring=(\"accuracy\", \"balanced_accuracy\"),\n",
    ")\n",
    "\n",
    "acc = result[\"test_accuracy\"].tolist()\n",
    "b_acc = result[\"test_balanced_accuracy\"].tolist()\n",
    "\n",
    "results[\"SVC\"] = (acc, b_acc)"
   ]
  },
  {
   "cell_type": "code",
   "execution_count": null,
   "metadata": {},
   "outputs": [],
   "source": [
    "# KNN\n",
    "from sklearn.neighbors import KNeighborsClassifier\n",
    "\n",
    "knn = KNeighborsClassifier()\n",
    "\n",
    "result = cross_validate(\n",
    "    knn,\n",
    "    data,  # type: ignore\n",
    "    labels,\n",
    "    cv=cv,\n",
    "    scoring=(\"accuracy\", \"balanced_accuracy\"),\n",
    ")\n",
    "\n",
    "acc = result[\"test_accuracy\"].tolist()\n",
    "b_acc = result[\"test_balanced_accuracy\"].tolist()\n",
    "\n",
    "results[\"KNN\"] = (acc, b_acc)"
   ]
  },
  {
   "cell_type": "code",
   "execution_count": null,
   "metadata": {},
   "outputs": [],
   "source": [
    "# Random Forest\n",
    "from sklearn.ensemble import RandomForestClassifier\n",
    "\n",
    "rf = RandomForestClassifier(random_state=RANDOM_STATE)\n",
    "\n",
    "result = cross_validate(\n",
    "    rf,\n",
    "    data,  # type: ignore\n",
    "    labels,\n",
    "    cv=cv,\n",
    "    scoring=(\"accuracy\", \"balanced_accuracy\"),\n",
    ")\n",
    "\n",
    "acc = result[\"test_accuracy\"].tolist()\n",
    "b_acc = result[\"test_balanced_accuracy\"].tolist()\n",
    "\n",
    "results[\"Random Forest\"] = (acc, b_acc)"
   ]
  },
  {
   "cell_type": "code",
   "execution_count": null,
   "metadata": {},
   "outputs": [],
   "source": [
    "from datetime import datetime\n",
    "\n",
    "import matplotlib.pyplot as plt\n",
    "import numpy as np\n",
    "import pandas as pd\n",
    "\n",
    "results_df = pd.DataFrame.from_dict(\n",
    "    results, orient=\"index\", columns=[\"accuracy\", \"balanced_accuracy\"]\n",
    ")\n",
    "\n",
    "fig = plt.figure()\n",
    "fig.suptitle(\"accuracy\")\n",
    "ax = fig.add_subplot(111)\n",
    "ax.boxplot(results_df[\"accuracy\"], labels=results_df.index)  # type: ignore\n",
    "fig.autofmt_xdate()\n",
    "plt.show()\n",
    "\n",
    "fig = plt.figure()\n",
    "fig.suptitle(\"balanced_accuracy\")\n",
    "ax = fig.add_subplot(111)\n",
    "ax.boxplot(results_df[\"balanced_accuracy\"], labels=results_df.index)  # type: ignore\n",
    "fig.autofmt_xdate()\n",
    "plt.show()\n",
    "\n",
    "results_df[\"accuracy\"] = results_df[\"accuracy\"].apply(lambda x: np.mean(x))\n",
    "results_df[\"balanced_accuracy\"] = results_df[\"balanced_accuracy\"].apply(\n",
    "    lambda x: np.mean(x)\n",
    ")\n",
    "\n",
    "results_df.sort_values(by=\"accuracy\", inplace=True, ascending=False)\n",
    "filename = f\"results-{datetime.now().timestamp()}.json\"\n",
    "results_df.to_json(filename, indent=4)\n",
    "\n",
    "results_df"
   ]
  }
 ],
 "metadata": {
  "kernelspec": {
   "display_name": ".venv",
   "language": "python",
   "name": "python3"
  },
  "language_info": {
   "codemirror_mode": {
    "name": "ipython",
    "version": 3
   },
   "file_extension": ".py",
   "mimetype": "text/x-python",
   "name": "python",
   "nbconvert_exporter": "python",
   "pygments_lexer": "ipython3",
   "version": "3.10.6"
  },
  "orig_nbformat": 4
 },
 "nbformat": 4,
 "nbformat_minor": 2
}
