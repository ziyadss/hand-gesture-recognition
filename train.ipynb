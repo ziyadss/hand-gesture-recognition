{
 "cells": [
  {
   "cell_type": "code",
   "execution_count": null,
   "metadata": {},
   "outputs": [],
   "source": [
    "import json\n",
    "import os\n",
    "import pickle\n",
    "\n",
    "from sklearn.model_selection import StratifiedKFold, cross_validate\n",
    "from sklearn.svm import SVC\n",
    "\n",
    "from constants import FORCE_EXTRACT, RANDOM_STATE\n",
    "from extractor import get_features_from_path\n",
    "from utils import NumpyEncoder, load_data"
   ]
  },
  {
   "cell_type": "code",
   "execution_count": null,
   "metadata": {},
   "outputs": [],
   "source": [
    "DATA_FILENAME = \"data_train.pkl\"\n",
    "MODEL_FILENAME = \"model_train.pkl\"\n",
    "SCORES_FILENAME = \"scores_train.json\""
   ]
  },
  {
   "cell_type": "code",
   "execution_count": null,
   "metadata": {},
   "outputs": [],
   "source": [
    "data_exists = os.path.exists(DATA_FILENAME)"
   ]
  },
  {
   "cell_type": "code",
   "execution_count": null,
   "metadata": {},
   "outputs": [],
   "source": [
    "if FORCE_EXTRACT or not data_exists:\n",
    "    if data_exists:\n",
    "        os.rename(DATA_FILENAME, DATA_FILENAME + \".bak\")\n",
    "\n",
    "    data, labels = load_data(get_features_from_path)\n",
    "    with open(DATA_FILENAME, \"wb\") as f:\n",
    "        pickle.dump((data, labels), f)\n",
    "else:\n",
    "    with open(DATA_FILENAME, \"rb\") as f:\n",
    "        data, labels = pickle.load(f)"
   ]
  },
  {
   "cell_type": "code",
   "execution_count": null,
   "metadata": {},
   "outputs": [],
   "source": [
    "clf = SVC(random_state=RANDOM_STATE, kernel=\"poly\", C=1, degree=4)"
   ]
  },
  {
   "cell_type": "code",
   "execution_count": null,
   "metadata": {},
   "outputs": [],
   "source": [
    "cv = StratifiedKFold(n_splits=5, shuffle=True, random_state=RANDOM_STATE)\n",
    "scores = cross_validate(\n",
    "    clf,\n",
    "    data,  # type: ignore\n",
    "    labels,\n",
    "    cv=cv,\n",
    "    scoring=(\"accuracy\", \"balanced_accuracy\"),\n",
    ")\n",
    "\n",
    "with open(SCORES_FILENAME, \"w\") as f:\n",
    "    json.dump(scores, f, cls=NumpyEncoder, indent=4)"
   ]
  },
  {
   "cell_type": "code",
   "execution_count": null,
   "metadata": {},
   "outputs": [],
   "source": [
    "clf.fit(data, labels)  # type: ignore\n",
    "\n",
    "with open(MODEL_FILENAME, \"wb\") as f:\n",
    "    pickle.dump(clf, f)"
   ]
  },
  {
   "cell_type": "code",
   "execution_count": null,
   "metadata": {},
   "outputs": [],
   "source": [
    "scores"
   ]
  }
 ],
 "metadata": {
  "kernelspec": {
   "display_name": ".venv",
   "language": "python",
   "name": "python3"
  },
  "language_info": {
   "codemirror_mode": {
    "name": "ipython",
    "version": 3
   },
   "file_extension": ".py",
   "mimetype": "text/x-python",
   "name": "python",
   "nbconvert_exporter": "python",
   "pygments_lexer": "ipython3",
   "version": "3.10.6"
  },
  "orig_nbformat": 4
 },
 "nbformat": 4,
 "nbformat_minor": 2
}
