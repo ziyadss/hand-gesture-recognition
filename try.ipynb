{
 "cells": [
  {
   "cell_type": "code",
   "execution_count": 35,
   "metadata": {},
   "outputs": [],
   "source": [
    "import json\n",
    "import os\n",
    "import pickle\n",
    "\n",
    "import numpy as np\n",
    "from skimage import feature, io, transform, util, filters, morphology, measure, color\n",
    "from sklearn import model_selection"
   ]
  },
  {
   "cell_type": "code",
   "execution_count": 36,
   "metadata": {},
   "outputs": [],
   "source": [
    "DATA_DIRECTORY = \"data\"\n",
    "MEN_DIRECTORY = os.path.join(DATA_DIRECTORY, \"men\")\n",
    "WOMEN_DIRECTORY = os.path.join(DATA_DIRECTORY, \"women\")\n",
    "LABELS_FILENAME = os.path.join(DATA_DIRECTORY, \"labels.jsonl\")"
   ]
  },
  {
   "cell_type": "code",
   "execution_count": 37,
   "metadata": {},
   "outputs": [],
   "source": [
    "paths: list[str] = []\n",
    "labels: list[int] = []\n",
    "with open(LABELS_FILENAME, \"r\") as f:\n",
    "    for line in f:\n",
    "        entry = json.loads(line)\n",
    "        path = entry[\"image_url\"]\n",
    "        label = int(entry[\"label\"])\n",
    "        paths.append(path)\n",
    "        labels.append(label)"
   ]
  },
  {
   "cell_type": "code",
   "execution_count": 38,
   "metadata": {},
   "outputs": [],
   "source": [
    "path = paths[0]\n",
    "label = labels[0]"
   ]
  },
  {
   "cell_type": "code",
   "execution_count": 39,
   "metadata": {},
   "outputs": [],
   "source": [
    "image = io.imread(path)\n",
    "grayscale = color.rgb2gray(image)"
   ]
  },
  {
   "cell_type": "code",
   "execution_count": 40,
   "metadata": {},
   "outputs": [],
   "source": [
    "threshold = filters.threshold_otsu(grayscale)\n",
    "binary = grayscale > threshold"
   ]
  },
  {
   "cell_type": "code",
   "execution_count": 41,
   "metadata": {},
   "outputs": [],
   "source": [
    "cleaned = morphology.remove_small_objects(binary, min_size=64, connectivity=2)\n",
    "filled = morphology.remove_small_holes(cleaned, area_threshold=64, connectivity=2)"
   ]
  },
  {
   "cell_type": "code",
   "execution_count": 42,
   "metadata": {},
   "outputs": [],
   "source": [
    "labels = morphology.label(filled)\n",
    "regions = measure.regionprops(labels)\n",
    "region = max(regions, key=lambda region: region.area)\n",
    "label = region.label"
   ]
  },
  {
   "cell_type": "code",
   "execution_count": 43,
   "metadata": {},
   "outputs": [],
   "source": [
    "hand = np.zeros_like(grayscale)\n",
    "hand[labels == label] = grayscale[labels == label]"
   ]
  },
  {
   "cell_type": "code",
   "execution_count": 44,
   "metadata": {},
   "outputs": [],
   "source": [
    "binary_hand = ~(hand > 0)\n",
    "hand_region = measure.regionprops(binary_hand.astype(int))[0]\n",
    "hull = morphology.convex_hull_image(binary_hand)"
   ]
  },
  {
   "cell_type": "code",
   "execution_count": 45,
   "metadata": {},
   "outputs": [],
   "source": [
    "cropped = image[hand_region.bbox[0] : hand_region.bbox[2], hand_region.bbox[1] : hand_region.bbox[3]]"
   ]
  }
 ],
 "metadata": {
  "kernelspec": {
   "display_name": ".venv",
   "language": "python",
   "name": "python3"
  },
  "language_info": {
   "codemirror_mode": {
    "name": "ipython",
    "version": 3
   },
   "file_extension": ".py",
   "mimetype": "text/x-python",
   "name": "python",
   "nbconvert_exporter": "python",
   "pygments_lexer": "ipython3",
   "version": "3.10.6"
  },
  "orig_nbformat": 4
 },
 "nbformat": 4,
 "nbformat_minor": 2
}
