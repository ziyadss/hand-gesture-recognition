{
 "cells": [
  {
   "cell_type": "code",
   "execution_count": null,
   "metadata": {},
   "outputs": [],
   "source": [
    "import json\n",
    "import os\n",
    "import pickle\n",
    "\n",
    "import cv2\n",
    "import numpy as np\n",
    "from skimage import (\n",
    "    color,\n",
    "    exposure,\n",
    "    feature,\n",
    "    filters,\n",
    "    io,\n",
    "    measure,\n",
    "    morphology,\n",
    "    transform,\n",
    ")\n",
    "from sklearn.model_selection import StratifiedKFold, cross_validate, train_test_split\n",
    "from sklearn.svm import SVC\n",
    "\n",
    "from constants import RANDOM_STATE\n",
    "from extractor import get_features_from_path\n",
    "from utils import NumpyEncoder, load_data"
   ]
  },
  {
   "cell_type": "code",
   "execution_count": null,
   "metadata": {},
   "outputs": [],
   "source": [
    "path = \"data/men/3/3_men (14).JPG\""
   ]
  }
 ],
 "metadata": {
  "kernelspec": {
   "display_name": ".venv",
   "language": "python",
   "name": "python3"
  },
  "language_info": {
   "codemirror_mode": {
    "name": "ipython",
    "version": 3
   },
   "file_extension": ".py",
   "mimetype": "text/x-python",
   "name": "python",
   "nbconvert_exporter": "python",
   "pygments_lexer": "ipython3",
   "version": "3.10.6"
  },
  "orig_nbformat": 4
 },
 "nbformat": 4,
 "nbformat_minor": 2
}
