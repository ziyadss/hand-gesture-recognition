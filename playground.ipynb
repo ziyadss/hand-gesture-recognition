{
 "cells": [
  {
   "cell_type": "code",
   "execution_count": null,
   "metadata": {},
   "outputs": [],
   "source": [
    "import json\n",
    "import os\n",
    "import pickle\n",
    "\n",
    "import cv2\n",
    "import numpy as np\n",
    "from skimage import (\n",
    "    color,\n",
    "    exposure,\n",
    "    feature,\n",
    "    filters,\n",
    "    io,\n",
    "    measure,\n",
    "    morphology,\n",
    "    transform,\n",
    ")\n",
    "from sklearn.model_selection import StratifiedKFold, cross_validate\n",
    "from sklearn.svm import SVC\n",
    "\n",
    "from constants import LABELS_FILENAME, RANDOM_STATE\n",
    "from extractor import get_features_from_path\n",
    "from utils import NumpyEncoder, load_data, show_cv2_image_bgr, show_cv2_image_gray"
   ]
  },
  {
   "cell_type": "code",
   "execution_count": null,
   "metadata": {},
   "outputs": [],
   "source": [
    "path = \"data/men/2/2_men (5).JPG\""
   ]
  },
  {
   "cell_type": "code",
   "execution_count": null,
   "metadata": {},
   "outputs": [],
   "source": [
    "img = cv2.imread(path)"
   ]
  },
  {
   "cell_type": "code",
   "execution_count": null,
   "metadata": {},
   "outputs": [],
   "source": [
    "def gray_world(img):\n",
    "    b, g, r = cv2.split(img)\n",
    "\n",
    "    b_avg = np.average(b)\n",
    "    g_avg = np.average(g)\n",
    "    r_avg = np.average(r)\n",
    "    avg = (b_avg + g_avg + r_avg) / 3\n",
    "\n",
    "    b = np.clip(b * (avg / b_avg), 0, 255).astype(np.uint8)\n",
    "    g = np.clip(g * (avg / g_avg), 0, 255).astype(np.uint8)\n",
    "    r = np.clip(r * (avg / r_avg), 0, 255).astype(np.uint8)\n",
    "    return cv2.merge([b, g, r])"
   ]
  },
  {
   "cell_type": "code",
   "execution_count": null,
   "metadata": {},
   "outputs": [],
   "source": [
    "lower = np.array([0, 20, 70])\n",
    "upper = np.array([20, 255, 255])\n",
    "kernel = np.ones((5, 5), np.uint8)\n",
    "# kernel = cv2.getStructuringElement(cv2.MORPH_ELLIPSE, (8, 8))"
   ]
  },
  {
   "cell_type": "code",
   "execution_count": null,
   "metadata": {},
   "outputs": [],
   "source": [
    "img = gray_world(img)\n",
    "hsv = cv2.cvtColor(img, cv2.COLOR_BGR2HSV)\n",
    "mask = cv2.inRange(hsv, lower, upper)\n",
    "mask = cv2.morphologyEx(mask, cv2.MORPH_CLOSE, kernel)\n",
    "mask = cv2.morphologyEx(mask, cv2.MORPH_OPEN, kernel)\n",
    "hand = cv2.bitwise_and(img, img, mask=mask)"
   ]
  },
  {
   "cell_type": "code",
   "execution_count": null,
   "metadata": {},
   "outputs": [],
   "source": [
    "show_cv2_image_bgr(img)\n",
    "show_cv2_image_gray(mask)\n",
    "show_cv2_image_bgr(hand)"
   ]
  },
  {
   "cell_type": "code",
   "execution_count": null,
   "metadata": {},
   "outputs": [],
   "source": [
    "with open(LABELS_FILENAME, \"r\") as f:\n",
    "    json_data = json.load(f)\n",
    "\n",
    "count = 1821\n",
    "i = 0\n",
    "for entry in json_data:\n",
    "    path: str = entry[\"path\"]\n",
    "\n",
    "    img = cv2.imread(path)\n",
    "    img = gray_world(img)\n",
    "    hsv = cv2.cvtColor(img, cv2.COLOR_BGR2HSV)\n",
    "    mask = cv2.inRange(hsv, lower, upper)\n",
    "    mask = cv2.morphologyEx(mask, cv2.MORPH_CLOSE, kernel)\n",
    "    mask = cv2.morphologyEx(mask, cv2.MORPH_OPEN, kernel)\n",
    "    hand = cv2.bitwise_and(img, img, mask=mask)\n",
    "\n",
    "    show_cv2_image_bgr(hand)"
   ]
  }
 ],
 "metadata": {
  "kernelspec": {
   "display_name": ".venv",
   "language": "python",
   "name": "python3"
  },
  "language_info": {
   "codemirror_mode": {
    "name": "ipython",
    "version": 3
   },
   "file_extension": ".py",
   "mimetype": "text/x-python",
   "name": "python",
   "nbconvert_exporter": "python",
   "pygments_lexer": "ipython3",
   "version": "3.10.6"
  },
  "orig_nbformat": 4
 },
 "nbformat": 4,
 "nbformat_minor": 2
}
