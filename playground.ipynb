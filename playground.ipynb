{
 "cells": [
  {
   "cell_type": "code",
   "execution_count": 2,
   "metadata": {},
   "outputs": [],
   "source": [
    "import json\n",
    "import os\n",
    "import pickle\n",
    "\n",
    "import numpy as np\n",
    "from skimage import feature, io, transform, util, filters, morphology\n",
    "from sklearn import model_selection"
   ]
  },
  {
   "cell_type": "code",
   "execution_count": 3,
   "metadata": {},
   "outputs": [],
   "source": [
    "DATA_DIRECTORY = \"data\"\n",
    "MEN_DIRECTORY = os.path.join(DATA_DIRECTORY, \"men\")\n",
    "WOMEN_DIRECTORY = os.path.join(DATA_DIRECTORY, \"women\")\n",
    "LABELS_FILENAME = os.path.join(DATA_DIRECTORY, \"labels.jsonl\")"
   ]
  },
  {
   "cell_type": "code",
   "execution_count": 4,
   "metadata": {},
   "outputs": [],
   "source": [
    "paths: list[str] = []\n",
    "labels: list[int] = []\n",
    "with open(LABELS_FILENAME, \"r\") as f:\n",
    "    for line in f:\n",
    "        entry = json.loads(line)\n",
    "        path = entry[\"image_url\"]\n",
    "        label = int(entry[\"label\"])\n",
    "        paths.append(path)\n",
    "        labels.append(label)"
   ]
  },
  {
   "cell_type": "code",
   "execution_count": 5,
   "metadata": {},
   "outputs": [
    {
     "name": "stdout",
     "output_type": "stream",
     "text": [
      "data/men/3/3_men (125).JPG 3\n"
     ]
    }
   ],
   "source": [
    "import numpy as np\n",
    "from skimage import color, filters, io, morphology, measure\n",
    "from utils import get_features_from_path\n",
    "\n",
    "path = paths[0]\n",
    "label = labels[0]\n",
    "print(path, label)"
   ]
  },
  {
   "cell_type": "code",
   "execution_count": null,
   "metadata": {},
   "outputs": [],
   "source": [
    "from skimage import img_as_float\n",
    "\n",
    "hull_diff = img_as_float(hull.copy())\n",
    "hull_diff[hand] = 0.5\n",
    "\n",
    "io.imshow(hull_diff)\n",
    "io.show()"
   ]
  },
  {
   "cell_type": "code",
   "execution_count": 39,
   "metadata": {},
   "outputs": [
    {
     "name": "stdout",
     "output_type": "stream",
     "text": [
      "area: 5598300.0\n",
      "area_bbox: 8914664.0\n",
      "area_convex: 6340244.0\n",
      "area_filled: 5598300.0\n",
      "axis_major_length: 4302.945240222048\n",
      "axis_minor_length: 1770.5333315446928\n",
      "bbox: (118, 596, 2340, 4608)\n",
      "centroid: (1255.3290411374883, 2733.779756354608)\n",
      "centroid_local: [1137.32904114 2137.77975635]\n",
      "eccentricity: 0.9114232564282464\n",
      "equivalent_diameter_area: 2669.8271373425773\n",
      "euler_number: -24\n",
      "extent: 0.6279877738521609\n",
      "feret_diameter_max: 4188.332842552034\n",
      "label: 1\n",
      "orientation: -1.39768219690805\n",
      "perimeter: 15067.052988109353\n",
      "perimeter_crofton: 14736.387083105503\n",
      "slice: (slice(118, 2340, None), slice(596, 4608, None))\n",
      "solidity: 0.8829786361534351\n"
     ]
    }
   ],
   "source": [
    "# hull_diff = hand ^ hull\n",
    "\n",
    "# io.imshow(hull_diff)\n",
    "# io.show()\n",
    "\n",
    "props = measure.regionprops(measure.label(hand))[0]\n",
    "\n",
    "SKIP = {\n",
    "    \"coords\",\n",
    "    \"image\",\n",
    "    \"image_convex\",\n",
    "    \"image_filled\",\n",
    "    \"inertia_tensor\",\n",
    "    \"inertia_tensor_eigvals\",\n",
    "    \"moments\",\n",
    "    \"moments_central\",\n",
    "    \"moments_hu\",\n",
    "    \"moments_normalized\",\n",
    "}\n",
    "for k in props:\n",
    "    if k not in SKIP:\n",
    "        print(f\"{k}: {props[k]}\")"
   ]
  },
  {
   "cell_type": "code",
   "execution_count": null,
   "metadata": {},
   "outputs": [],
   "source": [
    "N = 20\n",
    "# Sample N images from each class\n",
    "classes = np.unique(labels)\n",
    "sampled_paths = []\n",
    "sampled_labels = []\n",
    "for c in classes:\n",
    "    class_paths = [p for p, l in zip(paths, labels) if l == c]\n",
    "    sampled_paths.extend(class_paths[:N])\n",
    "    sampled_labels.extend([c] * N)\n",
    "\n",
    "paths = sampled_paths\n",
    "labels = sampled_labels"
   ]
  },
  {
   "cell_type": "code",
   "execution_count": null,
   "metadata": {},
   "outputs": [],
   "source": [
    "from hog import hog\n",
    "\n",
    "myhog = hog\n",
    "skhog = feature.hog\n",
    "\n",
    "\n",
    "def get_features(img_path: str) -> np.ndarray:\n",
    "    img = util.img_as_float(io.imread(img_path, as_gray=True))\n",
    "\n",
    "    img = transform.rescale(img, 1 / 16)\n",
    "\n",
    "    # features = myhog(img)\n",
    "    features = skhog(\n",
    "        img, orientations=8, pixels_per_cell=(16, 16), cells_per_block=(1, 1)\n",
    "    )\n",
    "\n",
    "    return features"
   ]
  },
  {
   "cell_type": "code",
   "execution_count": null,
   "metadata": {},
   "outputs": [],
   "source": [
    "features = [get_features(path) for path in paths]"
   ]
  },
  {
   "cell_type": "code",
   "execution_count": null,
   "metadata": {},
   "outputs": [],
   "source": [
    "with open(\"features.pkl\", \"wb\") as f:\n",
    "    pickle.dump(features, f)"
   ]
  },
  {
   "cell_type": "code",
   "execution_count": null,
   "metadata": {},
   "outputs": [],
   "source": [
    "# with open(\"features.pickle\", \"rb\") as f:\n",
    "# features = pickle.load(f)"
   ]
  },
  {
   "cell_type": "code",
   "execution_count": null,
   "metadata": {},
   "outputs": [],
   "source": [
    "random_state = 312\n",
    "\n",
    "X_train, X_test, y_train, y_test = model_selection.train_test_split(\n",
    "    features, labels, test_size=0.2, random_state=random_state\n",
    ")"
   ]
  },
  {
   "cell_type": "code",
   "execution_count": null,
   "metadata": {},
   "outputs": [],
   "source": [
    "cv = model_selection.StratifiedKFold(\n",
    "    n_splits=5, shuffle=True, random_state=random_state\n",
    ")"
   ]
  },
  {
   "cell_type": "code",
   "execution_count": null,
   "metadata": {},
   "outputs": [],
   "source": [
    "from sklearn.svm import SVC\n",
    "\n",
    "clf = SVC(kernel=\"linear\")\n",
    "\n",
    "result = model_selection.cross_validate(\n",
    "    clf,\n",
    "    X_train,\n",
    "    y_train,\n",
    "    cv=cv,\n",
    "    scoring=(\"accuracy\", \"balanced_accuracy\"),\n",
    ")\n",
    "\n",
    "result"
   ]
  },
  {
   "cell_type": "code",
   "execution_count": null,
   "metadata": {},
   "outputs": [],
   "source": [
    "clf.fit(X_train, y_train)"
   ]
  },
  {
   "cell_type": "code",
   "execution_count": null,
   "metadata": {},
   "outputs": [],
   "source": [
    "with open(\"model.pkl\", \"wb\") as f:\n",
    "    pickle.dump(clf, f)"
   ]
  },
  {
   "cell_type": "code",
   "execution_count": null,
   "metadata": {},
   "outputs": [],
   "source": [
    "# with open(\"model.pkl\", \"rb\") as f:\n",
    "#     clf = pickle.load(f)"
   ]
  },
  {
   "cell_type": "code",
   "execution_count": null,
   "metadata": {},
   "outputs": [],
   "source": [
    "clf.score(X_test, y_test)"
   ]
  }
 ],
 "metadata": {
  "kernelspec": {
   "display_name": ".venv",
   "language": "python",
   "name": "python3"
  },
  "language_info": {
   "codemirror_mode": {
    "name": "ipython",
    "version": 3
   },
   "file_extension": ".py",
   "mimetype": "text/x-python",
   "name": "python",
   "nbconvert_exporter": "python",
   "pygments_lexer": "ipython3",
   "version": "3.10.6"
  },
  "orig_nbformat": 4
 },
 "nbformat": 4,
 "nbformat_minor": 2
}
